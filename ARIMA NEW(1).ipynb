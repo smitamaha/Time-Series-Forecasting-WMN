{
 "cells": [
  {
   "cell_type": "code",
   "execution_count": null,
   "metadata": {},
   "outputs": [],
   "source": []
  },
  {
   "cell_type": "code",
   "execution_count": 1,
   "metadata": {},
   "outputs": [],
   "source": [
    "import numpy as np\n",
    "import pandas as pd\n",
    "from matplotlib import pyplot as plt\n",
    "from statsmodels.tsa.stattools import adfuller\n",
    "from statsmodels.tsa.seasonal import seasonal_decompose\n",
    "from statsmodels.tsa.arima_model import ARIMA\n",
    "from pandas.plotting import register_matplotlib_converters\n",
    "register_matplotlib_converters()"
   ]
  },
  {
   "cell_type": "code",
   "execution_count": 2,
   "metadata": {},
   "outputs": [
    {
     "data": {
      "text/plain": [
       "<AxesSubplot:>"
      ]
     },
     "execution_count": 2,
     "metadata": {},
     "output_type": "execute_result"
    },
    {
     "data": {
      "image/png": "[encoded data removed]",
      "text/plain": [
       "<Figure size 864x360 with 1 Axes>"
      ]
     },
     "metadata": {
      "needs_background": "light"
     },
     "output_type": "display_data"
    }
   ],
   "source": [
    "df = pd.read_csv(r'C:\\Smita Mahajan\\PhD\\ML_DL\\NW\\hsdpump.csv')\n",
    "\n",
    "df['Date']=pd.to_datetime(df['Date'],infer_datetime_format=True)\n",
    "index_col = (df['Date'])\n",
    "df.head()\n",
    "df.shape\n",
    "df['Vibration'].plot(figsize=(12,5))"
   ]
  },
  {
   "cell_type": "code",
   "execution_count": 3,
   "metadata": {},
   "outputs": [
    {
     "name": "stdout",
     "output_type": "stream",
     "text": [
      "Results of Dicky Fuller Test\n",
      "Test Statestic                 -8.443276e+00\n",
      "p-Value                         1.739898e-13\n",
      "#lags used                      3.700000e+01\n",
      "Number of Obseravations Used    8.936000e+03\n",
      "Critical value (1%             -3.431082e+00\n",
      "Critical value (5%             -2.861863e+00\n",
      "Critical value (10%            -2.566942e+00\n",
      "dtype: float64\n"
     ]
    }
   ],
   "source": [
    "indexedDataset=df.set_index(['Date'])\n",
    "indexedDataset.columns\n",
    "#To perform Dicky Fuller Test\n",
    "from statsmodels.tsa.stattools import adfuller\n",
    "print('Results of Dicky Fuller Test')\n",
    "dftest = adfuller(indexedDataset['Vibration'],autolag='AIC')\n",
    "dfoutput = pd.Series(dftest[0:4],index= ['Test Statestic','p-Value','#lags used','Number of Obseravations Used'])\n",
    "for key,value in dftest[4].items():\n",
    "    dfoutput['Critical value (%s'%key]=value\n",
    "    \n",
    "print(dfoutput)\n",
    "                  "
   ]
  },
  {
   "cell_type": "code",
   "execution_count": 13,
   "metadata": {},
   "outputs": [],
   "source": [
    "# THE P VALUE IS PROBABILITY, AND IT SHOULD BE AS SMALL AS POSSIBLEfrom pmdarima import auto_arima\n",
    "# ARIMA+ AR=Auto Regression (Uses previous values to make the prediction)\n",
    "#Second order uses past two values for prediction\n",
    "\n",
    "#MA== Moving average(Uses the past errors to predict the future values)\n",
    "# Integration (Integrated means differencin)\n"
   ]
  },
  {
   "cell_type": "code",
   "execution_count": 4,
   "metadata": {},
   "outputs": [],
   "source": [
    "from pmdarima import auto_arima\n",
    "#import harmless warnings\n",
    "import warnings\n",
    "warnings.filterwarnings(\"ignore\")"
   ]
  },
  {
   "cell_type": "code",
   "execution_count": 5,
   "metadata": {},
   "outputs": [
    {
     "name": "stdout",
     "output_type": "stream",
     "text": [
      "Performing stepwise search to minimize aic\n",
      " ARIMA(2,1,2)(0,0,0)[0] intercept   : AIC=5293.029, Time=10.65 sec\n",
      " ARIMA(0,1,0)(0,0,0)[0] intercept   : AIC=6587.271, Time=1.45 sec\n",
      " ARIMA(1,1,0)(0,0,0)[0] intercept   : AIC=6278.366, Time=0.43 sec\n",
      " ARIMA(0,1,1)(0,0,0)[0] intercept   : AIC=6144.394, Time=0.93 sec\n",
      " ARIMA(0,1,0)(0,0,0)[0]             : AIC=6585.271, Time=0.55 sec\n",
      " ARIMA(1,1,2)(0,0,0)[0] intercept   : AIC=5279.662, Time=13.74 sec\n",
      " ARIMA(0,1,2)(0,0,0)[0] intercept   : AIC=5934.085, Time=1.79 sec\n",
      " ARIMA(1,1,1)(0,0,0)[0] intercept   : AIC=5292.922, Time=4.33 sec\n",
      " ARIMA(1,1,3)(0,0,0)[0] intercept   : AIC=5273.301, Time=12.57 sec\n",
      " ARIMA(0,1,3)(0,0,0)[0] intercept   : AIC=5886.276, Time=3.01 sec\n",
      " ARIMA(2,1,3)(0,0,0)[0] intercept   : AIC=5258.268, Time=12.65 sec\n",
      " ARIMA(3,1,3)(0,0,0)[0] intercept   : AIC=5277.119, Time=11.83 sec\n",
      " ARIMA(2,1,4)(0,0,0)[0] intercept   : AIC=5259.118, Time=13.87 sec\n",
      " ARIMA(1,1,4)(0,0,0)[0] intercept   : AIC=5264.941, Time=11.70 sec\n",
      " ARIMA(3,1,2)(0,0,0)[0] intercept   : AIC=5261.334, Time=12.76 sec\n",
      " ARIMA(3,1,4)(0,0,0)[0] intercept   : AIC=5273.282, Time=17.47 sec\n",
      " ARIMA(2,1,3)(0,0,0)[0]             : AIC=5255.845, Time=5.66 sec\n",
      " ARIMA(1,1,3)(0,0,0)[0]             : AIC=5271.292, Time=3.33 sec\n",
      " ARIMA(2,1,2)(0,0,0)[0]             : AIC=5283.053, Time=4.32 sec\n",
      " ARIMA(3,1,3)(0,0,0)[0]             : AIC=5251.762, Time=7.62 sec\n",
      " ARIMA(3,1,2)(0,0,0)[0]             : AIC=5257.410, Time=4.22 sec\n",
      " ARIMA(4,1,3)(0,0,0)[0]             : AIC=5269.496, Time=8.31 sec\n",
      " ARIMA(3,1,4)(0,0,0)[0]             : AIC=5259.630, Time=8.50 sec\n",
      " ARIMA(2,1,4)(0,0,0)[0]             : AIC=5256.832, Time=4.35 sec\n",
      " ARIMA(4,1,2)(0,0,0)[0]             : AIC=5255.724, Time=4.60 sec\n",
      " ARIMA(4,1,4)(0,0,0)[0]             : AIC=5260.584, Time=8.86 sec\n",
      "\n",
      "Best model:  ARIMA(3,1,3)(0,0,0)[0]          \n",
      "Total fit time: 190.148 seconds\n"
     ]
    },
    {
     "data": {
      "text/html": [
       "<table class=\"simpletable\">\n",
       "<caption>SARIMAX Results</caption>\n",
       "<tr>\n",
       "  <th>Dep. Variable:</th>           <td>y</td>        <th>  No. Observations:  </th>   <td>8974</td>   \n",
       "</tr>\n",
       "<tr>\n",
       "  <th>Model:</th>           <td>SARIMAX(3, 1, 3)</td> <th>  Log Likelihood     </th> <td>-2618.881</td>\n",
       "</tr>\n",
       "<tr>\n",
       "  <th>Date:</th>            <td>Tue, 08 Jun 2021</td> <th>  AIC                </th> <td>5251.762</td> \n",
       "</tr>\n",
       "<tr>\n",
       "  <th>Time:</th>                <td>10:58:42</td>     <th>  BIC                </th> <td>5301.476</td> \n",
       "</tr>\n",
       "<tr>\n",
       "  <th>Sample:</th>                  <td>0</td>        <th>  HQIC               </th> <td>5268.681</td> \n",
       "</tr>\n",
       "<tr>\n",
       "  <th></th>                      <td> - 8974</td>     <th>                     </th>     <td> </td>    \n",
       "</tr>\n",
       "<tr>\n",
       "  <th>Covariance Type:</th>        <td>opg</td>       <th>                     </th>     <td> </td>    \n",
       "</tr>\n",
       "</table>\n",
       "<table class=\"simpletable\">\n",
       "<tr>\n",
       "     <td></td>       <th>coef</th>     <th>std err</th>      <th>z</th>      <th>P>|z|</th>  <th>[0.025</th>    <th>0.975]</th>  \n",
       "</tr>\n",
       "<tr>\n",
       "  <th>ar.L1</th>  <td>   -1.1238</td> <td>    0.005</td> <td> -246.025</td> <td> 0.000</td> <td>   -1.133</td> <td>   -1.115</td>\n",
       "</tr>\n",
       "<tr>\n",
       "  <th>ar.L2</th>  <td>    0.2887</td> <td>    0.005</td> <td>   57.008</td> <td> 0.000</td> <td>    0.279</td> <td>    0.299</td>\n",
       "</tr>\n",
       "<tr>\n",
       "  <th>ar.L3</th>  <td>    0.6873</td> <td>    0.003</td> <td>  201.678</td> <td> 0.000</td> <td>    0.681</td> <td>    0.694</td>\n",
       "</tr>\n",
       "<tr>\n",
       "  <th>ma.L1</th>  <td>    0.8371</td> <td>    0.004</td> <td>  197.151</td> <td> 0.000</td> <td>    0.829</td> <td>    0.845</td>\n",
       "</tr>\n",
       "<tr>\n",
       "  <th>ma.L2</th>  <td>   -0.8028</td> <td>    0.003</td> <td> -317.762</td> <td> 0.000</td> <td>   -0.808</td> <td>   -0.798</td>\n",
       "</tr>\n",
       "<tr>\n",
       "  <th>ma.L3</th>  <td>   -0.9528</td> <td>    0.005</td> <td> -207.930</td> <td> 0.000</td> <td>   -0.962</td> <td>   -0.944</td>\n",
       "</tr>\n",
       "<tr>\n",
       "  <th>sigma2</th> <td>    0.1050</td> <td>    0.000</td> <td>  523.097</td> <td> 0.000</td> <td>    0.105</td> <td>    0.105</td>\n",
       "</tr>\n",
       "</table>\n",
       "<table class=\"simpletable\">\n",
       "<tr>\n",
       "  <th>Ljung-Box (L1) (Q):</th>     <td>3.45</td> <th>  Jarque-Bera (JB):  </th> <td>34224167.27</td>\n",
       "</tr>\n",
       "<tr>\n",
       "  <th>Prob(Q):</th>                <td>0.06</td> <th>  Prob(JB):          </th>    <td>0.00</td>    \n",
       "</tr>\n",
       "<tr>\n",
       "  <th>Heteroskedasticity (H):</th> <td>1.07</td> <th>  Skew:              </th>    <td>4.28</td>    \n",
       "</tr>\n",
       "<tr>\n",
       "  <th>Prob(H) (two-sided):</th>    <td>0.07</td> <th>  Kurtosis:          </th>   <td>305.43</td>   \n",
       "</tr>\n",
       "</table><br/><br/>Warnings:<br/>[1] Covariance matrix calculated using the outer product of gradients (complex-step)."
      ],
      "text/plain": [
       "<class 'statsmodels.iolib.summary.Summary'>\n",
       "\"\"\"\n",
       "                               SARIMAX Results                                \n",
       "==============================================================================\n",
       "Dep. Variable:                      y   No. Observations:                 8974\n",
       "Model:               SARIMAX(3, 1, 3)   Log Likelihood               -2618.881\n",
       "Date:                Tue, 08 Jun 2021   AIC                           5251.762\n",
       "Time:                        10:58:42   BIC                           5301.476\n",
       "Sample:                             0   HQIC                          5268.681\n",
       "                               - 8974                                         \n",
       "Covariance Type:                  opg                                         \n",
       "==============================================================================\n",
       "                 coef    std err          z      P>|z|      [0.025      0.975]\n",
       "------------------------------------------------------------------------------\n",
       "ar.L1         -1.1238      0.005   -246.025      0.000      -1.133      -1.115\n",
       "ar.L2          0.2887      0.005     57.008      0.000       0.279       0.299\n",
       "ar.L3          0.6873      0.003    201.678      0.000       0.681       0.694\n",
       "ma.L1          0.8371      0.004    197.151      0.000       0.829       0.845\n",
       "ma.L2         -0.8028      0.003   -317.762      0.000      -0.808      -0.798\n",
       "ma.L3         -0.9528      0.005   -207.930      0.000      -0.962      -0.944\n",
       "sigma2         0.1050      0.000    523.097      0.000       0.105       0.105\n",
       "===================================================================================\n",
       "Ljung-Box (L1) (Q):                   3.45   Jarque-Bera (JB):          34224167.27\n",
       "Prob(Q):                              0.06   Prob(JB):                         0.00\n",
       "Heteroskedasticity (H):               1.07   Skew:                             4.28\n",
       "Prob(H) (two-sided):                  0.07   Kurtosis:                       305.43\n",
       "===================================================================================\n",
       "\n",
       "Warnings:\n",
       "[1] Covariance matrix calculated using the outer product of gradients (complex-step).\n",
       "\"\"\""
      ]
     },
     "execution_count": 5,
     "metadata": {},
     "output_type": "execute_result"
    }
   ],
   "source": [
    "stepwise_fit=auto_arima(df['Vibration'], trace= True, supress_warnings=True)\n",
    "stepwise_fit.summary()"
   ]
  },
  {
   "cell_type": "code",
   "execution_count": 19,
   "metadata": {},
   "outputs": [],
   "source": [
    "from statsmodels.tsa.arima_model import ARIMA"
   ]
  },
  {
   "cell_type": "code",
   "execution_count": 6,
   "metadata": {},
   "outputs": [
    {
     "name": "stdout",
     "output_type": "stream",
     "text": [
      "(8974, 9)\n",
      "(6974, 9) (2000, 9)\n"
     ]
    }
   ],
   "source": [
    "#splpit the data in training and testing\n",
    "print(df.shape)\n",
    "train= df.iloc[:-2000]\n",
    "test= df.iloc[-2000:]\n",
    "print(train.shape, test.shape)\n"
   ]
  },
  {
   "cell_type": "code",
   "execution_count": 22,
   "metadata": {},
   "outputs": [
    {
     "name": "stdout",
     "output_type": "stream",
     "text": [
      "                             ARIMA Model Results                              \n",
      "==============================================================================\n",
      "Dep. Variable:            D.Vibration   No. Observations:                 6973\n",
      "Model:                 ARIMA(3, 1, 3)   Log Likelihood                -819.558\n",
      "Method:                       css-mle   S.D. of innovations              0.272\n",
      "Date:                Tue, 08 Jun 2021   AIC                           1655.115\n",
      "Time:                        11:07:28   BIC                           1709.913\n",
      "Sample:                             1   HQIC                          1674.001\n",
      "                                                                              \n",
      "=====================================================================================\n",
      "                        coef    std err          z      P>|z|      [0.025      0.975]\n",
      "-------------------------------------------------------------------------------------\n",
      "const             -2.567e-06      0.000     -0.011      0.992      -0.000       0.000\n",
      "ar.L1.D.Vibration    -0.5889      0.070     -8.444      0.000      -0.726      -0.452\n",
      "ar.L2.D.Vibration     0.6226      0.028     22.218      0.000       0.568       0.677\n",
      "ar.L3.D.Vibration     0.3130      0.044      7.056      0.000       0.226       0.400\n",
      "ma.L1.D.Vibration     0.2112      0.072      2.934      0.003       0.070       0.352\n",
      "ma.L2.D.Vibration    -0.9172      0.022    -42.072      0.000      -0.960      -0.874\n",
      "ma.L3.D.Vibration    -0.2458      0.065     -3.766      0.000      -0.374      -0.118\n",
      "                                    Roots                                    \n",
      "=============================================================================\n",
      "                  Real          Imaginary           Modulus         Frequency\n",
      "-----------------------------------------------------------------------------\n",
      "AR.1            1.3098           +0.0000j            1.3098            0.0000\n",
      "AR.2           -1.1190           +0.0000j            1.1190            0.5000\n",
      "AR.3           -2.1801           +0.0000j            2.1801            0.5000\n",
      "MA.1            1.0201           +0.0000j            1.0201            0.0000\n",
      "MA.2           -1.0888           +0.0000j            1.0888            0.5000\n",
      "MA.3           -3.6635           +0.0000j            3.6635            0.5000\n",
      "-----------------------------------------------------------------------------\n"
     ]
    }
   ],
   "source": [
    "# Fit the model\n",
    "\n",
    "#model= auto_arima(train['Vibration'], order=(3,1,3))\n",
    "\n",
    "model=ARIMA(train['Vibration'], order=(3,1,3))\n",
    "#model.fit()\n",
    "results = model.fit(disp = 0)\n",
    "#model.summary()\n",
    "print(results.summary())\n",
    "            "
   ]
  },
  {
   "cell_type": "code",
   "execution_count": 23,
   "metadata": {},
   "outputs": [
    {
     "name": "stdout",
     "output_type": "stream",
     "text": [
      "Date\n",
      "2020-03-17 03:13:00    0.347477\n",
      "2020-03-17 04:13:00    0.365287\n",
      "2020-03-17 05:13:00    0.365056\n",
      "2020-03-17 06:13:00    0.387922\n",
      "2020-03-17 07:13:00    0.379885\n",
      "                         ...   \n",
      "2020-06-08 06:16:00    0.403147\n",
      "2020-06-08 07:16:00    0.403145\n",
      "2020-06-08 08:16:00    0.403142\n",
      "2020-06-08 10:16:00    0.403139\n",
      "2020-06-08 11:15:00    0.403137\n",
      "Length: 2000, dtype: float64\n"
     ]
    }
   ],
   "source": [
    "start=len(train)\n",
    "end = len(train)+len(test)-1\n",
    "results_pred= results.predict(start=start,end=end,typ ='levels')\n",
    "results_pred.index=df.Date[start:end+1]\n",
    "print(results_pred)"
   ]
  },
  {
   "cell_type": "code",
   "execution_count": 24,
   "metadata": {},
   "outputs": [
    {
     "data": {
      "text/plain": [
       "<AxesSubplot:xlabel='Date'>"
      ]
     },
     "execution_count": 24,
     "metadata": {},
     "output_type": "execute_result"
    },
    {
     "data": {
      "image/png": "[encoded data removed]",
      "text/plain": [
       "<Figure size 432x288 with 1 Axes>"
      ]
     },
     "metadata": {
      "needs_background": "light"
     },
     "output_type": "display_data"
    }
   ],
   "source": [
    "results_pred.plot(legend=True)\n"
   ]
  },
  {
   "cell_type": "code",
   "execution_count": 25,
   "metadata": {},
   "outputs": [
    {
     "data": {
      "text/plain": [
       "<AxesSubplot:>"
      ]
     },
     "execution_count": 25,
     "metadata": {},
     "output_type": "execute_result"
    },
    {
     "data": {
      "image/png": "[encoded data removed]",
      "text/plain": [
       "<Figure size 432x288 with 1 Axes>"
      ]
     },
     "metadata": {
      "needs_background": "light"
     },
     "output_type": "display_data"
    }
   ],
   "source": [
    "test['Vibration'].plot(legend=True)\n",
    "train['Vibration'].plot(legend=True)"
   ]
  },
  {
   "cell_type": "code",
   "execution_count": 26,
   "metadata": {},
   "outputs": [
    {
     "data": {
      "text/plain": [
       "0.4924861710220001"
      ]
     },
     "execution_count": 26,
     "metadata": {},
     "output_type": "execute_result"
    }
   ],
   "source": [
    "test['Vibration'].mean()"
   ]
  },
  {
   "cell_type": "code",
   "execution_count": 27,
   "metadata": {},
   "outputs": [
    {
     "name": "stdout",
     "output_type": "stream",
     "text": [
      "                             ARIMA Model Results                              \n",
      "==============================================================================\n",
      "Dep. Variable:            D.Vibration   No. Observations:                 6973\n",
      "Model:                 ARIMA(2, 1, 2)   Log Likelihood                -824.915\n",
      "Method:                       css-mle   S.D. of innovations              0.272\n",
      "Date:                Tue, 08 Jun 2021   AIC                           1661.829\n",
      "Time:                        11:08:09   BIC                           1702.928\n",
      "Sample:                             1   HQIC                          1675.994\n",
      "                                                                              \n",
      "=====================================================================================\n",
      "                        coef    std err          z      P>|z|      [0.025      0.975]\n",
      "-------------------------------------------------------------------------------------\n",
      "const             -2.501e-06      0.000     -0.010      0.992      -0.000       0.000\n",
      "ar.L1.D.Vibration     0.4293      0.066      6.476      0.000       0.299       0.559\n",
      "ar.L2.D.Vibration     0.2585      0.045      5.696      0.000       0.170       0.347\n",
      "ma.L1.D.Vibration    -0.8081      0.068    -11.940      0.000      -0.941      -0.675\n",
      "ma.L2.D.Vibration    -0.1690      0.066     -2.566      0.010      -0.298      -0.040\n",
      "                                    Roots                                    \n",
      "=============================================================================\n",
      "                  Real          Imaginary           Modulus         Frequency\n",
      "-----------------------------------------------------------------------------\n",
      "AR.1            1.3046           +0.0000j            1.3046            0.0000\n",
      "AR.2           -2.9651           +0.0000j            2.9651            0.5000\n",
      "MA.1            1.0200           +0.0000j            1.0200            0.0000\n",
      "MA.2           -5.8024           +0.0000j            5.8024            0.5000\n",
      "-----------------------------------------------------------------------------\n"
     ]
    }
   ],
   "source": [
    "# Fit the model #2\n",
    "\n",
    "#model= auto_arima(train['Vibration'], order=(,21,2))\n",
    "\n",
    "model=ARIMA(train['Vibration'], order=(2,1,2))\n",
    "#model.fit()\n",
    "results = model.fit(disp = 0)\n",
    "#model.summary()\n",
    "print(results.summary())"
   ]
  },
  {
   "cell_type": "code",
   "execution_count": 28,
   "metadata": {},
   "outputs": [
    {
     "name": "stdout",
     "output_type": "stream",
     "text": [
      "Date\n",
      "2020-03-17 03:13:00    0.358668\n",
      "2020-03-17 04:13:00    0.361759\n",
      "2020-03-17 05:13:00    0.375597\n",
      "2020-03-17 06:13:00    0.382335\n",
      "2020-03-17 07:13:00    0.388804\n",
      "                         ...   \n",
      "2020-06-08 06:16:00    0.403662\n",
      "2020-06-08 07:16:00    0.403660\n",
      "2020-06-08 08:16:00    0.403657\n",
      "2020-06-08 10:16:00    0.403655\n",
      "2020-06-08 11:15:00    0.403652\n",
      "Length: 2000, dtype: float64\n"
     ]
    }
   ],
   "source": [
    "# for  model #2 Prediction \n",
    "start=len(train)\n",
    "end = len(train)+len(test)-1\n",
    "results_pred= results.predict(start=start,end=end,typ ='levels')\n",
    "results_pred.index=df.Date[start:end+1]\n",
    "print(results_pred)"
   ]
  },
  {
   "cell_type": "code",
   "execution_count": 29,
   "metadata": {},
   "outputs": [
    {
     "data": {
      "text/plain": [
       "<AxesSubplot:xlabel='Date'>"
      ]
     },
     "execution_count": 29,
     "metadata": {},
     "output_type": "execute_result"
    },
    {
     "data": {
      "image/png": "[encoded data removed]",
      "text/plain": [
       "<Figure size 432x288 with 1 Axes>"
      ]
     },
     "metadata": {
      "needs_background": "light"
     },
     "output_type": "display_data"
    }
   ],
   "source": [
    "results_pred.plot(legend=True)\n"
   ]
  },
  {
   "cell_type": "code",
   "execution_count": 30,
   "metadata": {},
   "outputs": [
    {
     "data": {
      "text/plain": [
       "<AxesSubplot:>"
      ]
     },
     "execution_count": 30,
     "metadata": {},
     "output_type": "execute_result"
    },
    {
     "data": {
      "image/png": "[encoded data removed]",
      "text/plain": [
       "<Figure size 432x288 with 1 Axes>"
      ]
     },
     "metadata": {
      "needs_background": "light"
     },
     "output_type": "display_data"
    }
   ],
   "source": [
    "test['Vibration'].plot(legend=True)\n",
    "train['Vibration'].plot(legend=True)"
   ]
  },
  {
   "cell_type": "code",
   "execution_count": null,
   "metadata": {},
   "outputs": [],
   "source": []
  },
  {
   "cell_type": "code",
   "execution_count": null,
   "metadata": {},
   "outputs": [],
   "source": [
    "# Fitting the model on overall dataset"
   ]
  },
  {
   "cell_type": "code",
   "execution_count": 31,
   "metadata": {},
   "outputs": [
    {
     "name": "stdout",
     "output_type": "stream",
     "text": [
      "0.6767738336949094\n"
     ]
    }
   ],
   "source": [
    "from sklearn.metrics import mean_squared_error\n",
    "from math import sqrt\n",
    "rmse=sqrt(mean_squared_error(results_pred,test['Vibration']))\n",
    "print(rmse)\n",
    "\n",
    "# Please note that the mean value and the rmse value almost same"
   ]
  },
  {
   "cell_type": "code",
   "execution_count": 32,
   "metadata": {},
   "outputs": [
    {
     "data": {
      "text/html": [
       "<div>\n",
       "<style scoped>\n",
       "    .dataframe tbody tr th:only-of-type {\n",
       "        vertical-align: middle;\n",
       "    }\n",
       "\n",
       "    .dataframe tbody tr th {\n",
       "        vertical-align: top;\n",
       "    }\n",
       "\n",
       "    .dataframe thead th {\n",
       "        text-align: right;\n",
       "    }\n",
       "</style>\n",
       "<table border=\"1\" class=\"dataframe\">\n",
       "  <thead>\n",
       "    <tr style=\"text-align: right;\">\n",
       "      <th></th>\n",
       "      <th>Date</th>\n",
       "      <th>Vibration</th>\n",
       "      <th>Temperature</th>\n",
       "      <th>IR</th>\n",
       "      <th>IY</th>\n",
       "      <th>IB</th>\n",
       "      <th>VR</th>\n",
       "      <th>VY</th>\n",
       "      <th>VB</th>\n",
       "    </tr>\n",
       "  </thead>\n",
       "  <tbody>\n",
       "    <tr>\n",
       "      <th>8969</th>\n",
       "      <td>2020-06-08 06:16:00</td>\n",
       "      <td>0.371849</td>\n",
       "      <td>24.218559</td>\n",
       "      <td>0.0</td>\n",
       "      <td>0.04</td>\n",
       "      <td>0.12000</td>\n",
       "      <td>0.0</td>\n",
       "      <td>0.0</td>\n",
       "      <td>0.0</td>\n",
       "    </tr>\n",
       "    <tr>\n",
       "      <th>8970</th>\n",
       "      <td>2020-06-08 07:16:00</td>\n",
       "      <td>0.412422</td>\n",
       "      <td>24.096489</td>\n",
       "      <td>0.0</td>\n",
       "      <td>0.04</td>\n",
       "      <td>0.10214</td>\n",
       "      <td>0.0</td>\n",
       "      <td>0.0</td>\n",
       "      <td>0.0</td>\n",
       "    </tr>\n",
       "    <tr>\n",
       "      <th>8971</th>\n",
       "      <td>2020-06-08 08:16:00</td>\n",
       "      <td>0.382393</td>\n",
       "      <td>24.706841</td>\n",
       "      <td>0.0</td>\n",
       "      <td>0.04</td>\n",
       "      <td>0.03000</td>\n",
       "      <td>0.0</td>\n",
       "      <td>0.0</td>\n",
       "      <td>0.0</td>\n",
       "    </tr>\n",
       "    <tr>\n",
       "      <th>8972</th>\n",
       "      <td>2020-06-08 10:16:00</td>\n",
       "      <td>0.382000</td>\n",
       "      <td>27.637000</td>\n",
       "      <td>0.0</td>\n",
       "      <td>0.04</td>\n",
       "      <td>0.12000</td>\n",
       "      <td>0.0</td>\n",
       "      <td>0.0</td>\n",
       "      <td>0.0</td>\n",
       "    </tr>\n",
       "    <tr>\n",
       "      <th>8973</th>\n",
       "      <td>2020-06-08 11:15:00</td>\n",
       "      <td>0.413000</td>\n",
       "      <td>30.078000</td>\n",
       "      <td>0.0</td>\n",
       "      <td>0.16</td>\n",
       "      <td>0.03000</td>\n",
       "      <td>0.0</td>\n",
       "      <td>0.0</td>\n",
       "      <td>0.0</td>\n",
       "    </tr>\n",
       "  </tbody>\n",
       "</table>\n",
       "</div>"
      ],
      "text/plain": [
       "                    Date  Vibration  Temperature   IR    IY       IB   VR  \\\n",
       "8969 2020-06-08 06:16:00   0.371849    24.218559  0.0  0.04  0.12000  0.0   \n",
       "8970 2020-06-08 07:16:00   0.412422    24.096489  0.0  0.04  0.10214  0.0   \n",
       "8971 2020-06-08 08:16:00   0.382393    24.706841  0.0  0.04  0.03000  0.0   \n",
       "8972 2020-06-08 10:16:00   0.382000    27.637000  0.0  0.04  0.12000  0.0   \n",
       "8973 2020-06-08 11:15:00   0.413000    30.078000  0.0  0.16  0.03000  0.0   \n",
       "\n",
       "       VY   VB  \n",
       "8969  0.0  0.0  \n",
       "8970  0.0  0.0  \n",
       "8971  0.0  0.0  \n",
       "8972  0.0  0.0  \n",
       "8973  0.0  0.0  "
      ]
     },
     "execution_count": 32,
     "metadata": {},
     "output_type": "execute_result"
    }
   ],
   "source": [
    "model_all=ARIMA(train['Vibration'], order=(3,1,3))\n",
    "results_all = model.fit(disp = 0)\n",
    "df.tail()"
   ]
  },
  {
   "cell_type": "code",
   "execution_count": 134,
   "metadata": {},
   "outputs": [
    {
     "data": {
      "text/html": [
       "<div>\n",
       "<style scoped>\n",
       "    .dataframe tbody tr th:only-of-type {\n",
       "        vertical-align: middle;\n",
       "    }\n",
       "\n",
       "    .dataframe tbody tr th {\n",
       "        vertical-align: top;\n",
       "    }\n",
       "\n",
       "    .dataframe thead th {\n",
       "        text-align: right;\n",
       "    }\n",
       "</style>\n",
       "<table border=\"1\" class=\"dataframe\">\n",
       "  <thead>\n",
       "    <tr style=\"text-align: right;\">\n",
       "      <th></th>\n",
       "      <th>Date</th>\n",
       "      <th>Vibration</th>\n",
       "      <th>Temperature</th>\n",
       "      <th>IR</th>\n",
       "      <th>IY</th>\n",
       "      <th>IB</th>\n",
       "      <th>VR</th>\n",
       "      <th>VY</th>\n",
       "      <th>VB</th>\n",
       "    </tr>\n",
       "  </thead>\n",
       "  <tbody>\n",
       "    <tr>\n",
       "      <th>0</th>\n",
       "      <td>2019-06-01 00:00:00</td>\n",
       "      <td>0.565557</td>\n",
       "      <td>25.805473</td>\n",
       "      <td>0.16759</td>\n",
       "      <td>0.127688</td>\n",
       "      <td>0.015961</td>\n",
       "      <td>31.594692</td>\n",
       "      <td>31.754303</td>\n",
       "      <td>30.9802</td>\n",
       "    </tr>\n",
       "    <tr>\n",
       "      <th>1</th>\n",
       "      <td>2019-06-01 01:00:00</td>\n",
       "      <td>0.303960</td>\n",
       "      <td>24.950981</td>\n",
       "      <td>0.16759</td>\n",
       "      <td>0.127688</td>\n",
       "      <td>0.015961</td>\n",
       "      <td>31.594692</td>\n",
       "      <td>31.754303</td>\n",
       "      <td>30.9802</td>\n",
       "    </tr>\n",
       "    <tr>\n",
       "      <th>2</th>\n",
       "      <td>2019-06-01 02:00:00</td>\n",
       "      <td>0.411822</td>\n",
       "      <td>24.462700</td>\n",
       "      <td>0.16759</td>\n",
       "      <td>0.127688</td>\n",
       "      <td>0.015961</td>\n",
       "      <td>31.594692</td>\n",
       "      <td>31.754303</td>\n",
       "      <td>30.9802</td>\n",
       "    </tr>\n",
       "    <tr>\n",
       "      <th>3</th>\n",
       "      <td>2019-06-01 03:00:00</td>\n",
       "      <td>0.378512</td>\n",
       "      <td>23.974419</td>\n",
       "      <td>0.16759</td>\n",
       "      <td>0.127688</td>\n",
       "      <td>0.015961</td>\n",
       "      <td>31.594692</td>\n",
       "      <td>31.754303</td>\n",
       "      <td>30.9802</td>\n",
       "    </tr>\n",
       "    <tr>\n",
       "      <th>4</th>\n",
       "      <td>2019-06-01 04:00:00</td>\n",
       "      <td>0.391413</td>\n",
       "      <td>23.852348</td>\n",
       "      <td>0.16759</td>\n",
       "      <td>0.127688</td>\n",
       "      <td>0.015961</td>\n",
       "      <td>31.594692</td>\n",
       "      <td>31.754303</td>\n",
       "      <td>30.9802</td>\n",
       "    </tr>\n",
       "  </tbody>\n",
       "</table>\n",
       "</div>"
      ],
      "text/plain": [
       "                 Date  Vibration  Temperature       IR        IY        IB  \\\n",
       "0 2019-06-01 00:00:00   0.565557    25.805473  0.16759  0.127688  0.015961   \n",
       "1 2019-06-01 01:00:00   0.303960    24.950981  0.16759  0.127688  0.015961   \n",
       "2 2019-06-01 02:00:00   0.411822    24.462700  0.16759  0.127688  0.015961   \n",
       "3 2019-06-01 03:00:00   0.378512    23.974419  0.16759  0.127688  0.015961   \n",
       "4 2019-06-01 04:00:00   0.391413    23.852348  0.16759  0.127688  0.015961   \n",
       "\n",
       "          VR         VY       VB  \n",
       "0  31.594692  31.754303  30.9802  \n",
       "1  31.594692  31.754303  30.9802  \n",
       "2  31.594692  31.754303  30.9802  \n",
       "3  31.594692  31.754303  30.9802  \n",
       "4  31.594692  31.754303  30.9802  "
      ]
     },
     "execution_count": 134,
     "metadata": {},
     "output_type": "execute_result"
    }
   ],
   "source": [
    "df.head()\n"
   ]
  },
  {
   "cell_type": "code",
   "execution_count": 51,
   "metadata": {},
   "outputs": [
    {
     "name": "stdout",
     "output_type": "stream",
     "text": [
      "1     0.565555\n",
      "2     0.374804\n",
      "3     0.401207\n",
      "4     0.402943\n",
      "5     0.400380\n",
      "6     0.438959\n",
      "7     0.386784\n",
      "8     0.410328\n",
      "9     0.396631\n",
      "10    0.450457\n",
      "dtype: float64\n"
     ]
    }
   ],
   "source": [
    "#redicitng next 10 values\n",
    "#start=len(train)\n",
    "start=1\n",
    "#nd = len(train)+len(test)+10\n",
    "end= 10\n",
    "\n",
    "future_date=pd.date_range(start= start, end= end)\n",
    "#start, end, periods, and freq\n",
    "\n",
    "final_predict= results_all.predict(start=start,end=end,typ ='levels')\n",
    "#inal_predict.index=df.Date[start:end+10]\n",
    "#final_predict.index=future_date\n",
    "print(final_predict)"
   ]
  },
  {
   "cell_type": "code",
   "execution_count": null,
   "metadata": {},
   "outputs": [],
   "source": []
  },
  {
   "cell_type": "code",
   "execution_count": null,
   "metadata": {},
   "outputs": [],
   "source": []
  }
 ],
 "metadata": {
  "kernelspec": {
   "display_name": "Python 3",
   "language": "python",
   "name": "python3"
  },
  "language_info": {
   "codemirror_mode": {
    "name": "ipython",
    "version": 3
   },
   "file_extension": ".py",
   "mimetype": "text/x-python",
   "name": "python",
   "nbconvert_exporter": "python",
   "pygments_lexer": "ipython3",
   "version": "3.7.7"
  }
 },
 "nbformat": 4,
 "nbformat_minor": 4
}
